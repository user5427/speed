{
 "cells": [
  {
   "cell_type": "code",
   "execution_count": null,
   "metadata": {
    "dotnet_interactive": {
     "language": "csharp"
    },
    "polyglot_notebook": {
     "kernelName": "csharp"
    }
   },
   "outputs": [],
   "source": [
    "[Flags]\n",
    "public enum MimeType\n",
    "{\n",
    "    Jpeg,\n",
    "    Png,\n",
    "    Gif,\n",
    "    Bmp,\n",
    "    Webp,\n",
    "    Svg\n",
    "\n",
    "}\n",
    "\n",
    "var types = MimeType.Jpeg | MimeType.Png | MimeType.Gif;\n",
    "types.Display();\n",
    "\n",
    "types.HasFlag(MimeType.Jpeg).Display();\n",
    "types.HasFlag(MimeType.Svg).Display();"
   ]
  },
  {
   "cell_type": "code",
   "execution_count": null,
   "metadata": {
    "dotnet_interactive": {
     "language": "csharp"
    },
    "polyglot_notebook": {
     "kernelName": "csharp"
    }
   },
   "outputs": [],
   "source": [
    "public class Article\n",
    "{\n",
    "    public int Id { get; set; }\n",
    "\n",
    "    public string Title { get; set; }\n",
    "    public string? CategoryTitle { get; set; }\n",
    "    private string _imageFileName;\n",
    "    public string? ImageFileName { \n",
    "        get => _imageFileName;\n",
    "        set => _imageFileName = value;\n",
    "     }\n",
    "    private string _imageFilePath;\n",
    "    public string? ImageFilePath { \n",
    "        get \n",
    "        {\n",
    "            Console.WriteLine(\"Getting\");\n",
    "            return _imageFilePath;\n",
    "        }\n",
    "        set\n",
    "        {\n",
    "            Console.WriteLine(\"Setting\");\n",
    "            _imageFilePath = value;\n",
    "        }\n",
    "     }\n",
    "}\n",
    "\n",
    "var art = new Article();\n",
    "art.ImageFilePath = \"C:\\\\temp\\\\image.jpg\";\n",
    "art.ImageFilePath.Display();\n",
    "\n",
    "art.ImageFileName = \"image.jpg\";\n",
    "art.ImageFileName.Display();"
   ]
  },
  {
   "cell_type": "code",
   "execution_count": null,
   "metadata": {
    "vscode": {
     "languageId": "polyglot-notebook"
    }
   },
   "outputs": [
    {
     "name": "stdout",
     "output_type": "stream",
     "text": [
      "1\r\n"
     ]
    }
   ],
   "source": [
    "public void boxingUnboxing() {\n",
    "    object a = 1;\n",
    "    int b = (int)a;\n",
    "    Console.WriteLine(b);\n",
    "}\n",
    "\n",
    "boxingUnboxing();"
   ]
  }
 ],
 "metadata": {
  "kernelspec": {
   "display_name": ".NET (C#)",
   "language": "C#",
   "name": ".net-csharp"
  },
  "polyglot_notebook": {
   "kernelInfo": {
    "defaultKernelName": "csharp",
    "items": [
     {
      "aliases": [],
      "languageName": "csharp",
      "name": "csharp"
     }
    ]
   }
  }
 },
 "nbformat": 4,
 "nbformat_minor": 2
}
